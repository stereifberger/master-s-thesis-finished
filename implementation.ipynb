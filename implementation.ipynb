{
 "cells": [
  {
   "cell_type": "markdown",
   "metadata": {},
   "source": [
    "# Overview\n",
    "An enviroment to train and evaluate neural networks on rule learning. The language used is stated in the notions of Chomsky.\n",
    "- Terminal symbols (encoded as integers)\n",
    "- Nonterminalsymbols and production rules (encoded as lambda-functions)\n",
    "\n",
    "This is how it works:\n",
    "1. Section \"Libraries and utilities imports libraries and defines useful functions.\n",
    "2. Section \"Data generation\" defines functions and a class for generating the training data\n",
    "3. Section \"Networks\" defines a function that implements different network architectures.\n",
    "4. Uses the before defined functions and Derivation class.\n",
    "  a. \"get_training_data()\" produces data using the grammar and logic for building derivations in the Derivation class the nonterminals and production rules used by \"nonterms()\".\n",
    "  b. A loop using \"evaluate()\" trains all specified architectures on the data and plots the results."
   ]
  },
  {
   "cell_type": "code",
   "execution_count": 121,
   "metadata": {},
   "outputs": [],
   "source": [
    "from keras.models import Sequential, Model\n",
    "from keras.layers import Input, Dense, SimpleRNN, TimeDistributed, LSTM, RepeatVector\n",
    "from tensorflow.keras.utils import to_categorical\n",
    "from sklearn.model_selection import train_test_split\n",
    "from sklearn.metrics import accuracy_score\n",
    "import matplotlib.pyplot as plt\n",
    "import random as rd\n",
    "from random import seed, randint, choice, shuffle\n",
    "import numpy as np\n",
    "from numpy import argmax\n",
    "import pandas as pd\n",
    "from tqdm import tqdm\n",
    "import copy\n",
    "import re\n",
    "import importlib\n",
    "import utils, calc, generation"
   ]
  },
  {
   "cell_type": "code",
   "execution_count": 203,
   "metadata": {},
   "outputs": [
    {
     "data": {
      "text/plain": [
       "<module 'calc' from '/home/str/master-s-thesis/calc.py'>"
      ]
     },
     "execution_count": 203,
     "metadata": {},
     "output_type": "execute_result"
    }
   ],
   "source": [
    "importlib.reload(calc)"
   ]
  },
  {
   "cell_type": "code",
   "execution_count": 10,
   "metadata": {},
   "outputs": [
    {
     "data": {
      "text/plain": [
       "[1, 6, 2]"
      ]
     },
     "execution_count": 10,
     "metadata": {},
     "output_type": "execute_result"
    }
   ],
   "source": [
    "dataset_builder(iter_range = list,\n",
    "                sample_size = int,\n",
    "                span_arg_num = list)"
   ]
  },
  {
   "cell_type": "code",
   "execution_count": 204,
   "metadata": {},
   "outputs": [
    {
     "data": {
      "text/plain": [
       "False"
      ]
     },
     "execution_count": 204,
     "metadata": {},
     "output_type": "execute_result"
    }
   ],
   "source": [
    "calc.app_check(calc.th_e, 0, prem = [[[3],[4],[7]],[3]]) == True"
   ]
  },
  {
   "cell_type": "code",
   "execution_count": 201,
   "metadata": {},
   "outputs": [],
   "source": [
    "prem = [[1][2]]\n",
    "if calc.app_check(calc.an_i, 0, prem) == True:\n"
   ]
  },
  {
   "cell_type": "code",
   "execution_count": 206,
   "metadata": {},
   "outputs": [
    {
     "data": {
      "text/plain": [
       "[12]"
      ]
     },
     "execution_count": 206,
     "metadata": {},
     "output_type": "execute_result"
    }
   ],
   "source": [
    "calc.symb[\"NO\"]"
   ]
  },
  {
   "cell_type": "code",
   "execution_count": null,
   "metadata": {},
   "outputs": [],
   "source": []
  }
 ],
 "metadata": {
  "kernelspec": {
   "display_name": "Python 3 (ipykernel)",
   "language": "python",
   "name": "python3"
  },
  "language_info": {
   "codemirror_mode": {
    "name": "ipython",
    "version": 3
   },
   "file_extension": ".py",
   "mimetype": "text/x-python",
   "name": "python",
   "nbconvert_exporter": "python",
   "pygments_lexer": "ipython3",
   "version": "3.10.12"
  }
 },
 "nbformat": 4,
 "nbformat_minor": 2
}
