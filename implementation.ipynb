{
  "nbformat": 4,
  "nbformat_minor": 0,
  "metadata": {
    "colab": {
      "provenance": []
    },
    "kernelspec": {
      "name": "python3",
      "display_name": "Python 3"
    },
    "language_info": {
      "name": "python"
    }
  },
  "cells": [
    {
      "cell_type": "code",
      "source": [
        "!git clone https://github.com/stereifberger/master-s-thesis.git"
      ],
      "metadata": {
        "id": "iwXvd20z8SMC",
        "outputId": "447bc556-426f-4596-b510-c7a306efd6fe",
        "colab": {
          "base_uri": "https://localhost:8080/"
        }
      },
      "execution_count": 11,
      "outputs": [
        {
          "output_type": "stream",
          "name": "stdout",
          "text": [
            "Cloning into 'master-s-thesis'...\n",
            "remote: Enumerating objects: 8, done.\u001b[K\n",
            "remote: Counting objects:  12% (1/8)\u001b[K\rremote: Counting objects:  25% (2/8)\u001b[K\rremote: Counting objects:  37% (3/8)\u001b[K\rremote: Counting objects:  50% (4/8)\u001b[K\rremote: Counting objects:  62% (5/8)\u001b[K\rremote: Counting objects:  75% (6/8)\u001b[K\rremote: Counting objects:  87% (7/8)\u001b[K\rremote: Counting objects: 100% (8/8)\u001b[K\rremote: Counting objects: 100% (8/8), done.\u001b[K\n",
            "remote: Compressing objects:  14% (1/7)\u001b[K\rremote: Compressing objects:  28% (2/7)\u001b[K\rremote: Compressing objects:  42% (3/7)\u001b[K\rremote: Compressing objects:  57% (4/7)\u001b[K\rremote: Compressing objects:  71% (5/7)\u001b[K\rremote: Compressing objects:  85% (6/7)\u001b[K\rremote: Compressing objects: 100% (7/7)\u001b[K\rremote: Compressing objects: 100% (7/7), done.\u001b[K\n",
            "Receiving objects:  12% (1/8)\rReceiving objects:  25% (2/8)\rReceiving objects:  37% (3/8)\rReceiving objects:  50% (4/8)\rremote: Total 8 (delta 0), reused 0 (delta 0), pack-reused 0\u001b[K\n",
            "Receiving objects:  62% (5/8)\rReceiving objects:  75% (6/8)\rReceiving objects:  87% (7/8)\rReceiving objects: 100% (8/8)\rReceiving objects: 100% (8/8), 59.66 KiB | 7.46 MiB/s, done.\n"
          ]
        }
      ]
    },
    {
      "cell_type": "markdown",
      "source": [
        "# 1 Libraries and Utilities"
      ],
      "metadata": {
        "id": "Lm9o1-v726yR"
      }
    },
    {
      "cell_type": "code",
      "source": [
        "import sys\n",
        "sys.path.append('/content/master-s-thesis')\n",
        "import utils\n",
        "import run_learning"
      ],
      "metadata": {
        "id": "7FGKVRw49ukh"
      },
      "execution_count": 21,
      "outputs": []
    },
    {
      "cell_type": "code",
      "source": [
        "def flatten(matrix = list):\n",
        "  return(list(pd.core.common.flatten(matrix)))"
      ],
      "metadata": {
        "id": "1AgvHFO2pvH0"
      },
      "execution_count": null,
      "outputs": []
    },
    {
      "cell_type": "code",
      "source": [
        "\"\"\"Pad sublists of lists to same length.\"\"\"\n",
        "def pad(list_1 = list, list_2 = list):\n",
        "  for sublist in list_1:\n",
        "    while len(sublist) < len(max(list_2, key = len)):\n",
        "      sublist.append(0)\n",
        "  for sublist in list_2:\n",
        "    while len(sublist) < len(max(list_2, key = len)):\n",
        "      sublist.append(0)\n",
        "  return list_1, list_2"
      ],
      "metadata": {
        "id": "o3cO6ZZaeRGb"
      },
      "execution_count": null,
      "outputs": []
    },
    {
      "cell_type": "markdown",
      "source": [
        "# 2 Training data generation classes"
      ],
      "metadata": {
        "id": "tZA_ncFLEz-n"
      }
    },
    {
      "cell_type": "code",
      "source": [
        "class Premises:\n",
        "  def __init__(self,\n",
        "               term_num = int,\n",
        "               sample_size = int,\n",
        "               span_arg_num = list):\n",
        "    self.term_num = term_num\n",
        "    self.terms = list(range(1, term_num + 1))\n",
        "    self.sample_size = sample_size\n",
        "    self.span_arg_num = span_arg_num\n",
        "    self.premises = self.input_gen()\n",
        "\n",
        "  def wff_gen(self):\n",
        "    arg_num = rd.randint(*self.span_arg_num)\n",
        "    arguments = rd.sample(self.terms, arg_num)\n",
        "    # Optionally some logic for building well formed formulas.\n",
        "    return arguments\n",
        "\n",
        "  def input_gen(self):\n",
        "    premises = []\n",
        "    while len(premises) < self.sample_size:\n",
        "        random_premises = self.wff_gen()\n",
        "        if random_premises not in premises:\n",
        "          premises.append(random_premises)\n",
        "    return premises"
      ],
      "metadata": {
        "id": "KNwQbUq3VP0p"
      },
      "execution_count": null,
      "outputs": []
    },
    {
      "cell_type": "code",
      "source": [
        "class Derivation:\n",
        "  def __init__(self,\n",
        "               term_num = int,\n",
        "               premises = list,\n",
        "               nonterms = list,\n",
        "               span_iterations = list):\n",
        "    self.term_num = term_num\n",
        "    self.premises = premises\n",
        "    self.nonterms = nonterms\n",
        "    self.span_iterations = span_iterations\n",
        "    self.recursion_task = self.recursion_task()\n",
        "\n",
        "  def X_gen(self, derivation, premise):\n",
        "      conclusion = derivation[-1]\n",
        "      X = flatten([premise, self.term_num + 1, derivation[-1]])\n",
        "      return X\n",
        "\n",
        "  def recursion_task(self):\n",
        "    y = []\n",
        "    X = []\n",
        "    for derivation in self.premises:\n",
        "      derivation_new = []\n",
        "      iterations = range(rd.randint(*self.span_iterations))\n",
        "      for iteration in iterations:\n",
        "        filtered_nonterms = []\n",
        "        for nonterm in nonterms:\n",
        "          arg_num = nonterm.__code__.co_argcount # Line by GPT.\n",
        "          if arg_num <= len(derivation):\n",
        "            filtered_nonterms.append(nonterm)\n",
        "        nonterm = rd.choice(filtered_nonterms)\n",
        "        arg_num = nonterm.__code__.co_argcount\n",
        "        args = rd.sample(flatten(derivation), arg_num)\n",
        "        derived = nonterm(*args)\n",
        "        derivation_new.append(derived)\n",
        "        if iteration == 0:\n",
        "          premise = derivation\n",
        "      y.append(flatten(derivation_new))\n",
        "      X.append(self.X_gen(derivation_new, premise))\n",
        "    return X, y"
      ],
      "metadata": {
        "id": "yw2TSYYACi3U"
      },
      "execution_count": null,
      "outputs": []
    },
    {
      "cell_type": "code",
      "source": [
        "class Network_Training:\n",
        "  def __init__(self,\n",
        "               self.hidden = int\n",
        "               self.hidden_dimensions = int\n",
        "               self.activation = str\n",
        "               ):\n",
        "    self.network = self.network()\n",
        "    self.hidden = hidden\n",
        "    self.hidden_dimension = hidden_dimension\n",
        "\n",
        "  \"\"\"A function with witch architecture and parameters are selected.\"\"\"\n",
        "  def network(architecture = str, features_number = int, dim1 = int, dim2 = int):\n",
        "    \"\"\"Neural network from towardsdatascience\"\"\"\n",
        "    model = Sequential()\n",
        "    if architecture == \"forward\":\n",
        "      model.add(Dense(16, input_dim=features_number, activation=self.activation))\n",
        "      for i in range(self.hidden_layers):\n",
        "            model.add(Dense(self.hidden_dimension, activation=self.activation)) #GPT\n",
        "      model.add(Dense(features_number, activation=’softmax’))\n",
        "    if architecture == \"rnn\":\n",
        "      model.add(SimpleRNN(128, input_shape=(dim1,dim2), return_sequences = True))\n",
        "      model.add(SimpleRNN(256, return_sequences = True))\n",
        "      model.add(SimpleRNN(256, return_sequences = True))\n",
        "      model.add(SimpleRNN(256, return_sequences = True))\n",
        "      model.add(SimpleRNN(128, return_sequences = False))\n",
        "      model.add(Dense(dim1*dim2, activation='sigmoid'))\n",
        "      model.build()\n",
        "    if architecture == \"lstm\":\n",
        "      model.add(LSTM(units=50, input_shape=(dim1,dim2)))\n",
        "      model.add(Dense(dim1*dim2))\n",
        "    return model\n",
        "\n",
        "def train(model_name = str,\n",
        "          term_num = int,\n",
        "          nonterms = list,\n",
        "          iter_range = list,\n",
        "          sample_size = int,\n",
        "          max_length = int):\n",
        "  num_classes = term_num + 2\n",
        "  X_y = Derivation(term_num = 4, premises = premises_data, nonterms = nonterms, span_iterations = [1,9])\n",
        "  X, y = X_y.recursion_task\n",
        "  X, y = pad(X,y)\n",
        "  X = to_categorical(X, num_classes)\n",
        "  y = to_categorical(y, num_classes)\n",
        "  if model_name == \"forward\":\n",
        "    X = out(X)\n",
        "  y = out(y)\n",
        "  X = np.array(X)\n",
        "  y = np.array(y)\n",
        "  global X_test\n",
        "  global y_test\n",
        "  X_train,X_test,y_train,y_test = train_test_split(X,y,test_size = 0.1)\n",
        "  features_number = X.shape[1]\n",
        "  if model_name == \"rnn\" or model_name == \"lstm\":\n",
        "    dim1 = X.shape[1]\n",
        "    dim2 = X.shape[2]\n",
        "  else:\n",
        "    dim1 = 0\n",
        "    dim2 = 0\n",
        "  global model\n",
        "  model = change_model(model_name, features_number, dim1, dim2)\n",
        "  model.compile(loss=\"mse\", optimizer='adam', metrics=['mae'])\n",
        "  global history\n",
        "  history = model.fit(X_train, y_train, validation_data = (X_test,y_test), epochs=200, batch_size=64)"
      ],
      "metadata": {
        "colab": {
          "base_uri": "https://localhost:8080/",
          "height": 106
        },
        "id": "FFuPsGdPhlzU",
        "outputId": "03fdcbac-de44-49df-e6db-a48340146afe"
      },
      "execution_count": null,
      "outputs": [
        {
          "output_type": "error",
          "ename": "SyntaxError",
          "evalue": "invalid character '’' (U+2019) (<ipython-input-190-438bffc1fc59>, line 19)",
          "traceback": [
            "\u001b[0;36m  File \u001b[0;32m\"<ipython-input-190-438bffc1fc59>\"\u001b[0;36m, line \u001b[0;32m19\u001b[0m\n\u001b[0;31m    model.add(Dense(features_number, activation=’softmax’))\u001b[0m\n\u001b[0m                                                ^\u001b[0m\n\u001b[0;31mSyntaxError\u001b[0m\u001b[0;31m:\u001b[0m invalid character '’' (U+2019)\n"
          ]
        }
      ]
    },
    {
      "cell_type": "code",
      "source": [
        "premises_data = Premises(term_num = 8, sample_size = 10, span_arg_num = [1,3])\n",
        "premises_data = premises_data.premises\n",
        "#print(f\"Input: {premises_data}\")\n",
        "X_y = Derivation(term_num = 4, premises = premises_data, nonterms = nonterms, span_iterations = [1,9])\n",
        "X, y = X_y.recursion_task\n",
        "pad(X,y)\n",
        "print(f\"X: {X}\")\n",
        "print(f\"y: {y}\")"
      ],
      "metadata": {
        "colab": {
          "base_uri": "https://localhost:8080/"
        },
        "id": "M6zd0XeKj6gi",
        "outputId": "bdee09e9-60f7-4ccb-c3da-8cc381f0d28e"
      },
      "execution_count": null,
      "outputs": [
        {
          "output_type": "stream",
          "name": "stdout",
          "text": [
            "X: [[5, 4, 5, 4, 0, 0, 0, 0, 0, 0, 0, 0, 0], [5, 8, 1, 5, 5, 0, 0, 0, 0, 0, 0, 0, 0], [6, 8, 4, 5, 6, 8, 0, 0, 0, 0, 0, 0, 0], [8, 7, 5, 8, 7, 0, 0, 0, 0, 0, 0, 0, 0], [3, 5, 3, 0, 0, 0, 0, 0, 0, 0, 0, 0, 0], [7, 5, 5, 7, 0, 0, 0, 0, 0, 0, 0, 0, 0], [6, 5, 6, 0, 0, 0, 0, 0, 0, 0, 0, 0, 0], [8, 5, 8, 0, 0, 0, 0, 0, 0, 0, 0, 0, 0], [5, 5, 5, 0, 0, 0, 0, 0, 0, 0, 0, 0, 0], [8, 7, 6, 5, 6, 0, 0, 0, 0, 0, 0, 0, 0]]\n",
            "y: [[4, 5, 5, 4, 4, 4, 5, 4, 0, 0, 0, 0, 0], [5, 1, 8, 8, 1, 8, 5, 0, 0, 0, 0, 0, 0], [6, 8, 8, 6, 6, 8, 0, 0, 0, 0, 0, 0, 0], [8, 8, 7, 8, 8, 7, 7, 8, 7, 7, 8, 8, 7], [3, 3, 3, 3, 3, 3, 0, 0, 0, 0, 0, 0, 0], [5, 7, 7, 5, 7, 7, 5, 7, 7, 0, 0, 0, 0], [6, 6, 6, 6, 6, 6, 6, 6, 0, 0, 0, 0, 0], [8, 8, 8, 8, 8, 8, 8, 0, 0, 0, 0, 0, 0], [5, 5, 5, 5, 5, 0, 0, 0, 0, 0, 0, 0, 0], [7, 6, 6, 0, 0, 0, 0, 0, 0, 0, 0, 0, 0]]\n"
          ]
        }
      ]
    },
    {
      "cell_type": "markdown",
      "source": [
        "# 3 Network class"
      ],
      "metadata": {
        "id": "EPEyfmmQE5sK"
      }
    },
    {
      "cell_type": "code",
      "source": [
        "# https://favtutor.com/blogs/partition-list-python\n",
        "# generator\n",
        "def partition(lst, size):\n",
        "    for i in range(0, len(lst), size):\n",
        "        yield lst[i : i+size]"
      ],
      "metadata": {
        "id": "oAu33BuAP-mc"
      },
      "execution_count": null,
      "outputs": []
    },
    {
      "cell_type": "markdown",
      "source": [
        "# Test"
      ],
      "metadata": {
        "id": "ZQ3nzMXV_vpv"
      }
    },
    {
      "cell_type": "code",
      "source": [
        "\"\"\"Define the nonterminals as lambda functions of terms and list them\"\"\"\n",
        "r1 = lambda term: term\n",
        "r2 = lambda term1, term2: [int(term1), (term2)]\n",
        "nonterms = [r1, r2]"
      ],
      "metadata": {
        "id": "-hkPYA8esS_D"
      },
      "execution_count": null,
      "outputs": []
    },
    {
      "cell_type": "code",
      "source": [
        "def out(y):\n",
        "  new = []\n",
        "  for x in y:\n",
        "    x = flatten(x)\n",
        "    new.append(x)\n",
        "  return new"
      ],
      "metadata": {
        "id": "uQYH4hYoTMaf"
      },
      "execution_count": null,
      "outputs": []
    },
    {
      "cell_type": "markdown",
      "source": [
        "# 3 Training"
      ],
      "metadata": {
        "id": "uFAYBHAd3tMH"
      }
    },
    {
      "cell_type": "code",
      "source": [
        "def train(model_name = str,\n",
        "          term_num = int,\n",
        "          nonterms = list,\n",
        "          iter_range = list,\n",
        "          sample_size = int,\n",
        "          max_length = int):\n",
        "  num_classes = term_num + 2\n",
        "  X_y = Derivation(term_num = 4, premises = premises_data, nonterms = nonterms, span_iterations = [1,9])\n",
        "  X, y = X_y.recursion_task\n",
        "  X, y = pad(X,y)\n",
        "  X = to_categorical(X, num_classes)\n",
        "  y = to_categorical(y, num_classes)\n",
        "  if model_name == \"forward\":\n",
        "    X = out(X)\n",
        "  y = out(y)\n",
        "  X = np.array(X)\n",
        "  y = np.array(y)\n",
        "  global X_test\n",
        "  global y_test\n",
        "  X_train,X_test,y_train,y_test = train_test_split(X,y,test_size = 0.1)\n",
        "  features_number = X.shape[1]\n",
        "  if model_name == \"rnn\" or model_name == \"lstm\":\n",
        "    dim1 = X.shape[1]\n",
        "    dim2 = X.shape[2]\n",
        "  else:\n",
        "    dim1 = 0\n",
        "    dim2 = 0\n",
        "  global model\n",
        "  model = change_model(model_name, features_number, dim1, dim2)\n",
        "  model.compile(loss=\"mse\", optimizer='adam', metrics=['mae'])\n",
        "  global history\n",
        "  history = model.fit(X_train, y_train, validation_data = (X_test,y_test), epochs=200, batch_size=64)"
      ],
      "metadata": {
        "id": "GlpYkI6fwddH"
      },
      "execution_count": null,
      "outputs": []
    },
    {
      "cell_type": "code",
      "source": [
        "train(model_name = \"rnn\",\n",
        "      term_num = 4,\n",
        "      nonterms = nonterms,\n",
        "      iter_range = [1,4],\n",
        "      sample_size = 50,\n",
        "      max_length = 5)"
      ],
      "metadata": {
        "colab": {
          "base_uri": "https://localhost:8080/"
        },
        "id": "BlvzvMxzxQ9x",
        "outputId": "11ab3f24-242e-4d7b-9f1b-b4c7a6c123a0"
      },
      "execution_count": null,
      "outputs": [
        {
          "output_type": "stream",
          "name": "stdout",
          "text": [
            "Epoch 1/200\n",
            "1/1 [==============================] - 7s 7s/step - loss: 0.2674 - mae: 0.4996 - val_loss: 0.1887 - val_mae: 0.4118\n",
            "Epoch 2/200\n",
            "1/1 [==============================] - 0s 87ms/step - loss: 0.1937 - mae: 0.4142 - val_loss: 0.1616 - val_mae: 0.3741\n",
            "Epoch 3/200\n",
            "1/1 [==============================] - 0s 85ms/step - loss: 0.1607 - mae: 0.3699 - val_loss: 0.1418 - val_mae: 0.3518\n",
            "Epoch 4/200\n",
            "1/1 [==============================] - 0s 80ms/step - loss: 0.1392 - mae: 0.3462 - val_loss: 0.1290 - val_mae: 0.3349\n",
            "Epoch 5/200\n",
            "1/1 [==============================] - 0s 76ms/step - loss: 0.1259 - mae: 0.3273 - val_loss: 0.1167 - val_mae: 0.3168\n",
            "Epoch 6/200\n",
            "1/1 [==============================] - 0s 85ms/step - loss: 0.1139 - mae: 0.3089 - val_loss: 0.1061 - val_mae: 0.2985\n",
            "Epoch 7/200\n",
            "1/1 [==============================] - 0s 77ms/step - loss: 0.1041 - mae: 0.2926 - val_loss: 0.0972 - val_mae: 0.2827\n",
            "Epoch 8/200\n",
            "1/1 [==============================] - 0s 92ms/step - loss: 0.0959 - mae: 0.2783 - val_loss: 0.0892 - val_mae: 0.2685\n",
            "Epoch 9/200\n",
            "1/1 [==============================] - 0s 86ms/step - loss: 0.0886 - mae: 0.2651 - val_loss: 0.0822 - val_mae: 0.2556\n",
            "Epoch 10/200\n",
            "1/1 [==============================] - 0s 71ms/step - loss: 0.0820 - mae: 0.2528 - val_loss: 0.0763 - val_mae: 0.2436\n",
            "Epoch 11/200\n",
            "1/1 [==============================] - 0s 90ms/step - loss: 0.0762 - mae: 0.2415 - val_loss: 0.0711 - val_mae: 0.2325\n",
            "Epoch 12/200\n",
            "1/1 [==============================] - 0s 73ms/step - loss: 0.0711 - mae: 0.2309 - val_loss: 0.0665 - val_mae: 0.2224\n",
            "Epoch 13/200\n",
            "1/1 [==============================] - 0s 83ms/step - loss: 0.0663 - mae: 0.2211 - val_loss: 0.0624 - val_mae: 0.2135\n",
            "Epoch 14/200\n",
            "1/1 [==============================] - 0s 84ms/step - loss: 0.0621 - mae: 0.2123 - val_loss: 0.0585 - val_mae: 0.2050\n",
            "Epoch 15/200\n",
            "1/1 [==============================] - 0s 76ms/step - loss: 0.0584 - mae: 0.2044 - val_loss: 0.0545 - val_mae: 0.1963\n",
            "Epoch 16/200\n",
            "1/1 [==============================] - 0s 84ms/step - loss: 0.0550 - mae: 0.1968 - val_loss: 0.0509 - val_mae: 0.1884\n",
            "Epoch 17/200\n",
            "1/1 [==============================] - 0s 76ms/step - loss: 0.0520 - mae: 0.1899 - val_loss: 0.0479 - val_mae: 0.1820\n",
            "Epoch 18/200\n",
            "1/1 [==============================] - 0s 76ms/step - loss: 0.0493 - mae: 0.1839 - val_loss: 0.0454 - val_mae: 0.1765\n",
            "Epoch 19/200\n",
            "1/1 [==============================] - 0s 78ms/step - loss: 0.0467 - mae: 0.1784 - val_loss: 0.0431 - val_mae: 0.1709\n",
            "Epoch 20/200\n",
            "1/1 [==============================] - 0s 86ms/step - loss: 0.0445 - mae: 0.1729 - val_loss: 0.0411 - val_mae: 0.1657\n",
            "Epoch 21/200\n",
            "1/1 [==============================] - 0s 111ms/step - loss: 0.0425 - mae: 0.1678 - val_loss: 0.0396 - val_mae: 0.1610\n",
            "Epoch 22/200\n",
            "1/1 [==============================] - 0s 130ms/step - loss: 0.0406 - mae: 0.1633 - val_loss: 0.0382 - val_mae: 0.1563\n",
            "Epoch 23/200\n",
            "1/1 [==============================] - 0s 125ms/step - loss: 0.0388 - mae: 0.1590 - val_loss: 0.0369 - val_mae: 0.1513\n",
            "Epoch 24/200\n",
            "1/1 [==============================] - 0s 111ms/step - loss: 0.0372 - mae: 0.1546 - val_loss: 0.0358 - val_mae: 0.1469\n",
            "Epoch 25/200\n",
            "1/1 [==============================] - 0s 107ms/step - loss: 0.0356 - mae: 0.1505 - val_loss: 0.0349 - val_mae: 0.1437\n",
            "Epoch 26/200\n",
            "1/1 [==============================] - 0s 116ms/step - loss: 0.0342 - mae: 0.1470 - val_loss: 0.0342 - val_mae: 0.1412\n",
            "Epoch 27/200\n",
            "1/1 [==============================] - 0s 113ms/step - loss: 0.0328 - mae: 0.1439 - val_loss: 0.0335 - val_mae: 0.1388\n",
            "Epoch 28/200\n",
            "1/1 [==============================] - 0s 123ms/step - loss: 0.0315 - mae: 0.1408 - val_loss: 0.0329 - val_mae: 0.1366\n",
            "Epoch 29/200\n",
            "1/1 [==============================] - 0s 124ms/step - loss: 0.0302 - mae: 0.1377 - val_loss: 0.0323 - val_mae: 0.1346\n",
            "Epoch 30/200\n",
            "1/1 [==============================] - 0s 115ms/step - loss: 0.0290 - mae: 0.1351 - val_loss: 0.0318 - val_mae: 0.1325\n",
            "Epoch 31/200\n",
            "1/1 [==============================] - 0s 107ms/step - loss: 0.0279 - mae: 0.1325 - val_loss: 0.0312 - val_mae: 0.1303\n",
            "Epoch 32/200\n",
            "1/1 [==============================] - 0s 126ms/step - loss: 0.0268 - mae: 0.1298 - val_loss: 0.0308 - val_mae: 0.1287\n",
            "Epoch 33/200\n",
            "1/1 [==============================] - 0s 120ms/step - loss: 0.0258 - mae: 0.1273 - val_loss: 0.0305 - val_mae: 0.1279\n",
            "Epoch 34/200\n",
            "1/1 [==============================] - 0s 118ms/step - loss: 0.0249 - mae: 0.1251 - val_loss: 0.0302 - val_mae: 0.1276\n",
            "Epoch 35/200\n",
            "1/1 [==============================] - 0s 124ms/step - loss: 0.0240 - mae: 0.1231 - val_loss: 0.0300 - val_mae: 0.1270\n",
            "Epoch 36/200\n",
            "1/1 [==============================] - 0s 124ms/step - loss: 0.0231 - mae: 0.1210 - val_loss: 0.0296 - val_mae: 0.1258\n",
            "Epoch 37/200\n",
            "1/1 [==============================] - 0s 129ms/step - loss: 0.0223 - mae: 0.1189 - val_loss: 0.0292 - val_mae: 0.1242\n",
            "Epoch 38/200\n",
            "1/1 [==============================] - 0s 128ms/step - loss: 0.0215 - mae: 0.1168 - val_loss: 0.0287 - val_mae: 0.1227\n",
            "Epoch 39/200\n",
            "1/1 [==============================] - 0s 127ms/step - loss: 0.0208 - mae: 0.1150 - val_loss: 0.0283 - val_mae: 0.1211\n",
            "Epoch 40/200\n",
            "1/1 [==============================] - 0s 99ms/step - loss: 0.0200 - mae: 0.1131 - val_loss: 0.0279 - val_mae: 0.1195\n",
            "Epoch 41/200\n",
            "1/1 [==============================] - 0s 74ms/step - loss: 0.0193 - mae: 0.1112 - val_loss: 0.0275 - val_mae: 0.1182\n",
            "Epoch 42/200\n",
            "1/1 [==============================] - 0s 79ms/step - loss: 0.0187 - mae: 0.1093 - val_loss: 0.0272 - val_mae: 0.1174\n",
            "Epoch 43/200\n",
            "1/1 [==============================] - 0s 76ms/step - loss: 0.0180 - mae: 0.1076 - val_loss: 0.0270 - val_mae: 0.1171\n",
            "Epoch 44/200\n",
            "1/1 [==============================] - 0s 90ms/step - loss: 0.0174 - mae: 0.1060 - val_loss: 0.0269 - val_mae: 0.1168\n",
            "Epoch 45/200\n",
            "1/1 [==============================] - 0s 88ms/step - loss: 0.0168 - mae: 0.1045 - val_loss: 0.0267 - val_mae: 0.1162\n",
            "Epoch 46/200\n",
            "1/1 [==============================] - 0s 84ms/step - loss: 0.0162 - mae: 0.1029 - val_loss: 0.0265 - val_mae: 0.1154\n",
            "Epoch 47/200\n",
            "1/1 [==============================] - 0s 90ms/step - loss: 0.0156 - mae: 0.1013 - val_loss: 0.0264 - val_mae: 0.1148\n",
            "Epoch 48/200\n",
            "1/1 [==============================] - 0s 95ms/step - loss: 0.0151 - mae: 0.0998 - val_loss: 0.0263 - val_mae: 0.1148\n",
            "Epoch 49/200\n",
            "1/1 [==============================] - 0s 76ms/step - loss: 0.0146 - mae: 0.0985 - val_loss: 0.0262 - val_mae: 0.1149\n",
            "Epoch 50/200\n",
            "1/1 [==============================] - 0s 74ms/step - loss: 0.0141 - mae: 0.0972 - val_loss: 0.0261 - val_mae: 0.1146\n",
            "Epoch 51/200\n",
            "1/1 [==============================] - 0s 94ms/step - loss: 0.0136 - mae: 0.0958 - val_loss: 0.0258 - val_mae: 0.1137\n",
            "Epoch 52/200\n",
            "1/1 [==============================] - 0s 75ms/step - loss: 0.0132 - mae: 0.0944 - val_loss: 0.0255 - val_mae: 0.1126\n",
            "Epoch 53/200\n",
            "1/1 [==============================] - 0s 81ms/step - loss: 0.0127 - mae: 0.0930 - val_loss: 0.0252 - val_mae: 0.1119\n",
            "Epoch 54/200\n",
            "1/1 [==============================] - 0s 77ms/step - loss: 0.0123 - mae: 0.0917 - val_loss: 0.0250 - val_mae: 0.1113\n",
            "Epoch 55/200\n",
            "1/1 [==============================] - 0s 87ms/step - loss: 0.0119 - mae: 0.0905 - val_loss: 0.0247 - val_mae: 0.1104\n",
            "Epoch 56/200\n",
            "1/1 [==============================] - 0s 77ms/step - loss: 0.0116 - mae: 0.0893 - val_loss: 0.0243 - val_mae: 0.1091\n",
            "Epoch 57/200\n",
            "1/1 [==============================] - 0s 76ms/step - loss: 0.0112 - mae: 0.0881 - val_loss: 0.0240 - val_mae: 0.1080\n",
            "Epoch 58/200\n",
            "1/1 [==============================] - 0s 86ms/step - loss: 0.0108 - mae: 0.0868 - val_loss: 0.0238 - val_mae: 0.1073\n",
            "Epoch 59/200\n",
            "1/1 [==============================] - 0s 85ms/step - loss: 0.0105 - mae: 0.0856 - val_loss: 0.0236 - val_mae: 0.1070\n",
            "Epoch 60/200\n",
            "1/1 [==============================] - 0s 98ms/step - loss: 0.0102 - mae: 0.0845 - val_loss: 0.0233 - val_mae: 0.1064\n",
            "Epoch 61/200\n",
            "1/1 [==============================] - 0s 85ms/step - loss: 0.0099 - mae: 0.0834 - val_loss: 0.0230 - val_mae: 0.1048\n",
            "Epoch 62/200\n",
            "1/1 [==============================] - 0s 84ms/step - loss: 0.0096 - mae: 0.0823 - val_loss: 0.0226 - val_mae: 0.1026\n",
            "Epoch 63/200\n",
            "1/1 [==============================] - 0s 85ms/step - loss: 0.0093 - mae: 0.0811 - val_loss: 0.0222 - val_mae: 0.1005\n",
            "Epoch 64/200\n",
            "1/1 [==============================] - 0s 73ms/step - loss: 0.0091 - mae: 0.0800 - val_loss: 0.0219 - val_mae: 0.0989\n",
            "Epoch 65/200\n",
            "1/1 [==============================] - 0s 84ms/step - loss: 0.0088 - mae: 0.0790 - val_loss: 0.0217 - val_mae: 0.0975\n",
            "Epoch 66/200\n",
            "1/1 [==============================] - 0s 75ms/step - loss: 0.0086 - mae: 0.0780 - val_loss: 0.0214 - val_mae: 0.0961\n",
            "Epoch 67/200\n",
            "1/1 [==============================] - 0s 87ms/step - loss: 0.0083 - mae: 0.0771 - val_loss: 0.0212 - val_mae: 0.0945\n",
            "Epoch 68/200\n",
            "1/1 [==============================] - 0s 84ms/step - loss: 0.0081 - mae: 0.0761 - val_loss: 0.0210 - val_mae: 0.0931\n",
            "Epoch 69/200\n",
            "1/1 [==============================] - 0s 71ms/step - loss: 0.0079 - mae: 0.0751 - val_loss: 0.0208 - val_mae: 0.0919\n",
            "Epoch 70/200\n",
            "1/1 [==============================] - 0s 88ms/step - loss: 0.0077 - mae: 0.0742 - val_loss: 0.0207 - val_mae: 0.0909\n",
            "Epoch 71/200\n",
            "1/1 [==============================] - 0s 88ms/step - loss: 0.0075 - mae: 0.0733 - val_loss: 0.0206 - val_mae: 0.0899\n",
            "Epoch 72/200\n",
            "1/1 [==============================] - 0s 75ms/step - loss: 0.0073 - mae: 0.0725 - val_loss: 0.0205 - val_mae: 0.0888\n",
            "Epoch 73/200\n",
            "1/1 [==============================] - 0s 90ms/step - loss: 0.0071 - mae: 0.0716 - val_loss: 0.0204 - val_mae: 0.0875\n",
            "Epoch 74/200\n",
            "1/1 [==============================] - 0s 86ms/step - loss: 0.0070 - mae: 0.0708 - val_loss: 0.0203 - val_mae: 0.0864\n",
            "Epoch 75/200\n",
            "1/1 [==============================] - 0s 78ms/step - loss: 0.0068 - mae: 0.0699 - val_loss: 0.0202 - val_mae: 0.0854\n",
            "Epoch 76/200\n",
            "1/1 [==============================] - 0s 73ms/step - loss: 0.0067 - mae: 0.0692 - val_loss: 0.0201 - val_mae: 0.0846\n",
            "Epoch 77/200\n",
            "1/1 [==============================] - 0s 88ms/step - loss: 0.0065 - mae: 0.0684 - val_loss: 0.0200 - val_mae: 0.0839\n",
            "Epoch 78/200\n",
            "1/1 [==============================] - 0s 92ms/step - loss: 0.0064 - mae: 0.0677 - val_loss: 0.0199 - val_mae: 0.0833\n",
            "Epoch 79/200\n",
            "1/1 [==============================] - 0s 82ms/step - loss: 0.0062 - mae: 0.0670 - val_loss: 0.0198 - val_mae: 0.0826\n",
            "Epoch 80/200\n",
            "1/1 [==============================] - 0s 72ms/step - loss: 0.0061 - mae: 0.0663 - val_loss: 0.0198 - val_mae: 0.0819\n",
            "Epoch 81/200\n",
            "1/1 [==============================] - 0s 72ms/step - loss: 0.0060 - mae: 0.0656 - val_loss: 0.0197 - val_mae: 0.0813\n",
            "Epoch 82/200\n",
            "1/1 [==============================] - 0s 86ms/step - loss: 0.0058 - mae: 0.0649 - val_loss: 0.0196 - val_mae: 0.0808\n",
            "Epoch 83/200\n",
            "1/1 [==============================] - 0s 75ms/step - loss: 0.0057 - mae: 0.0643 - val_loss: 0.0195 - val_mae: 0.0804\n",
            "Epoch 84/200\n",
            "1/1 [==============================] - 0s 73ms/step - loss: 0.0056 - mae: 0.0636 - val_loss: 0.0195 - val_mae: 0.0800\n",
            "Epoch 85/200\n",
            "1/1 [==============================] - 0s 74ms/step - loss: 0.0055 - mae: 0.0630 - val_loss: 0.0194 - val_mae: 0.0796\n",
            "Epoch 86/200\n",
            "1/1 [==============================] - 0s 73ms/step - loss: 0.0054 - mae: 0.0624 - val_loss: 0.0194 - val_mae: 0.0791\n",
            "Epoch 87/200\n",
            "1/1 [==============================] - 0s 99ms/step - loss: 0.0053 - mae: 0.0618 - val_loss: 0.0193 - val_mae: 0.0787\n",
            "Epoch 88/200\n",
            "1/1 [==============================] - 0s 79ms/step - loss: 0.0052 - mae: 0.0612 - val_loss: 0.0192 - val_mae: 0.0784\n",
            "Epoch 89/200\n",
            "1/1 [==============================] - 0s 90ms/step - loss: 0.0051 - mae: 0.0607 - val_loss: 0.0192 - val_mae: 0.0780\n",
            "Epoch 90/200\n",
            "1/1 [==============================] - 0s 91ms/step - loss: 0.0050 - mae: 0.0601 - val_loss: 0.0191 - val_mae: 0.0777\n",
            "Epoch 91/200\n",
            "1/1 [==============================] - 0s 72ms/step - loss: 0.0049 - mae: 0.0596 - val_loss: 0.0191 - val_mae: 0.0774\n",
            "Epoch 92/200\n",
            "1/1 [==============================] - 0s 86ms/step - loss: 0.0048 - mae: 0.0591 - val_loss: 0.0190 - val_mae: 0.0770\n",
            "Epoch 93/200\n",
            "1/1 [==============================] - 0s 88ms/step - loss: 0.0047 - mae: 0.0586 - val_loss: 0.0190 - val_mae: 0.0766\n",
            "Epoch 94/200\n",
            "1/1 [==============================] - 0s 73ms/step - loss: 0.0046 - mae: 0.0581 - val_loss: 0.0189 - val_mae: 0.0761\n",
            "Epoch 95/200\n",
            "1/1 [==============================] - 0s 84ms/step - loss: 0.0045 - mae: 0.0576 - val_loss: 0.0189 - val_mae: 0.0757\n",
            "Epoch 96/200\n",
            "1/1 [==============================] - 0s 75ms/step - loss: 0.0045 - mae: 0.0571 - val_loss: 0.0188 - val_mae: 0.0754\n",
            "Epoch 97/200\n",
            "1/1 [==============================] - 0s 73ms/step - loss: 0.0044 - mae: 0.0566 - val_loss: 0.0188 - val_mae: 0.0751\n",
            "Epoch 98/200\n",
            "1/1 [==============================] - 0s 88ms/step - loss: 0.0043 - mae: 0.0561 - val_loss: 0.0187 - val_mae: 0.0747\n",
            "Epoch 99/200\n",
            "1/1 [==============================] - 0s 73ms/step - loss: 0.0042 - mae: 0.0557 - val_loss: 0.0187 - val_mae: 0.0743\n",
            "Epoch 100/200\n",
            "1/1 [==============================] - 0s 92ms/step - loss: 0.0042 - mae: 0.0552 - val_loss: 0.0187 - val_mae: 0.0739\n",
            "Epoch 101/200\n",
            "1/1 [==============================] - 0s 76ms/step - loss: 0.0041 - mae: 0.0548 - val_loss: 0.0186 - val_mae: 0.0735\n",
            "Epoch 102/200\n",
            "1/1 [==============================] - 0s 92ms/step - loss: 0.0040 - mae: 0.0544 - val_loss: 0.0186 - val_mae: 0.0731\n",
            "Epoch 103/200\n",
            "1/1 [==============================] - 0s 74ms/step - loss: 0.0040 - mae: 0.0539 - val_loss: 0.0186 - val_mae: 0.0728\n",
            "Epoch 104/200\n",
            "1/1 [==============================] - 0s 89ms/step - loss: 0.0039 - mae: 0.0535 - val_loss: 0.0186 - val_mae: 0.0724\n",
            "Epoch 105/200\n",
            "1/1 [==============================] - 0s 92ms/step - loss: 0.0038 - mae: 0.0531 - val_loss: 0.0185 - val_mae: 0.0721\n",
            "Epoch 106/200\n",
            "1/1 [==============================] - 0s 75ms/step - loss: 0.0038 - mae: 0.0527 - val_loss: 0.0185 - val_mae: 0.0717\n",
            "Epoch 107/200\n",
            "1/1 [==============================] - 0s 92ms/step - loss: 0.0037 - mae: 0.0524 - val_loss: 0.0185 - val_mae: 0.0713\n",
            "Epoch 108/200\n",
            "1/1 [==============================] - 0s 87ms/step - loss: 0.0037 - mae: 0.0520 - val_loss: 0.0184 - val_mae: 0.0710\n",
            "Epoch 109/200\n",
            "1/1 [==============================] - 0s 84ms/step - loss: 0.0036 - mae: 0.0516 - val_loss: 0.0184 - val_mae: 0.0706\n",
            "Epoch 110/200\n",
            "1/1 [==============================] - 0s 89ms/step - loss: 0.0036 - mae: 0.0512 - val_loss: 0.0184 - val_mae: 0.0703\n",
            "Epoch 111/200\n",
            "1/1 [==============================] - 0s 84ms/step - loss: 0.0035 - mae: 0.0509 - val_loss: 0.0183 - val_mae: 0.0700\n",
            "Epoch 112/200\n",
            "1/1 [==============================] - 0s 88ms/step - loss: 0.0035 - mae: 0.0505 - val_loss: 0.0183 - val_mae: 0.0697\n",
            "Epoch 113/200\n",
            "1/1 [==============================] - 0s 80ms/step - loss: 0.0034 - mae: 0.0502 - val_loss: 0.0183 - val_mae: 0.0694\n",
            "Epoch 114/200\n",
            "1/1 [==============================] - 0s 85ms/step - loss: 0.0034 - mae: 0.0498 - val_loss: 0.0183 - val_mae: 0.0691\n",
            "Epoch 115/200\n",
            "1/1 [==============================] - 0s 71ms/step - loss: 0.0033 - mae: 0.0495 - val_loss: 0.0183 - val_mae: 0.0687\n",
            "Epoch 116/200\n",
            "1/1 [==============================] - 0s 87ms/step - loss: 0.0033 - mae: 0.0491 - val_loss: 0.0182 - val_mae: 0.0684\n",
            "Epoch 117/200\n",
            "1/1 [==============================] - 0s 72ms/step - loss: 0.0032 - mae: 0.0488 - val_loss: 0.0182 - val_mae: 0.0681\n",
            "Epoch 118/200\n",
            "1/1 [==============================] - 0s 75ms/step - loss: 0.0032 - mae: 0.0485 - val_loss: 0.0182 - val_mae: 0.0678\n",
            "Epoch 119/200\n",
            "1/1 [==============================] - 0s 89ms/step - loss: 0.0031 - mae: 0.0482 - val_loss: 0.0182 - val_mae: 0.0675\n",
            "Epoch 120/200\n",
            "1/1 [==============================] - 0s 76ms/step - loss: 0.0031 - mae: 0.0479 - val_loss: 0.0182 - val_mae: 0.0673\n",
            "Epoch 121/200\n",
            "1/1 [==============================] - 0s 75ms/step - loss: 0.0031 - mae: 0.0475 - val_loss: 0.0182 - val_mae: 0.0670\n",
            "Epoch 122/200\n",
            "1/1 [==============================] - 0s 88ms/step - loss: 0.0030 - mae: 0.0472 - val_loss: 0.0181 - val_mae: 0.0667\n",
            "Epoch 123/200\n",
            "1/1 [==============================] - 0s 79ms/step - loss: 0.0030 - mae: 0.0469 - val_loss: 0.0181 - val_mae: 0.0665\n",
            "Epoch 124/200\n",
            "1/1 [==============================] - 0s 88ms/step - loss: 0.0029 - mae: 0.0467 - val_loss: 0.0181 - val_mae: 0.0662\n",
            "Epoch 125/200\n",
            "1/1 [==============================] - 0s 87ms/step - loss: 0.0029 - mae: 0.0464 - val_loss: 0.0181 - val_mae: 0.0660\n",
            "Epoch 126/200\n",
            "1/1 [==============================] - 0s 73ms/step - loss: 0.0029 - mae: 0.0461 - val_loss: 0.0181 - val_mae: 0.0657\n",
            "Epoch 127/200\n",
            "1/1 [==============================] - 0s 87ms/step - loss: 0.0028 - mae: 0.0458 - val_loss: 0.0181 - val_mae: 0.0655\n",
            "Epoch 128/200\n",
            "1/1 [==============================] - 0s 79ms/step - loss: 0.0028 - mae: 0.0455 - val_loss: 0.0181 - val_mae: 0.0652\n",
            "Epoch 129/200\n",
            "1/1 [==============================] - 0s 93ms/step - loss: 0.0028 - mae: 0.0452 - val_loss: 0.0180 - val_mae: 0.0650\n",
            "Epoch 130/200\n",
            "1/1 [==============================] - 0s 89ms/step - loss: 0.0027 - mae: 0.0450 - val_loss: 0.0180 - val_mae: 0.0648\n",
            "Epoch 131/200\n",
            "1/1 [==============================] - 0s 90ms/step - loss: 0.0027 - mae: 0.0447 - val_loss: 0.0180 - val_mae: 0.0645\n",
            "Epoch 132/200\n",
            "1/1 [==============================] - 0s 75ms/step - loss: 0.0027 - mae: 0.0444 - val_loss: 0.0180 - val_mae: 0.0643\n",
            "Epoch 133/200\n",
            "1/1 [==============================] - 0s 98ms/step - loss: 0.0026 - mae: 0.0442 - val_loss: 0.0180 - val_mae: 0.0641\n",
            "Epoch 134/200\n",
            "1/1 [==============================] - 0s 81ms/step - loss: 0.0026 - mae: 0.0439 - val_loss: 0.0180 - val_mae: 0.0639\n",
            "Epoch 135/200\n",
            "1/1 [==============================] - 0s 87ms/step - loss: 0.0026 - mae: 0.0437 - val_loss: 0.0180 - val_mae: 0.0636\n",
            "Epoch 136/200\n",
            "1/1 [==============================] - 0s 87ms/step - loss: 0.0025 - mae: 0.0434 - val_loss: 0.0180 - val_mae: 0.0634\n",
            "Epoch 137/200\n",
            "1/1 [==============================] - 0s 72ms/step - loss: 0.0025 - mae: 0.0432 - val_loss: 0.0179 - val_mae: 0.0632\n",
            "Epoch 138/200\n",
            "1/1 [==============================] - 0s 82ms/step - loss: 0.0025 - mae: 0.0429 - val_loss: 0.0179 - val_mae: 0.0630\n",
            "Epoch 139/200\n",
            "1/1 [==============================] - 0s 88ms/step - loss: 0.0025 - mae: 0.0427 - val_loss: 0.0179 - val_mae: 0.0628\n",
            "Epoch 140/200\n",
            "1/1 [==============================] - 0s 93ms/step - loss: 0.0024 - mae: 0.0425 - val_loss: 0.0179 - val_mae: 0.0626\n",
            "Epoch 141/200\n",
            "1/1 [==============================] - 0s 86ms/step - loss: 0.0024 - mae: 0.0422 - val_loss: 0.0179 - val_mae: 0.0624\n",
            "Epoch 142/200\n",
            "1/1 [==============================] - 0s 71ms/step - loss: 0.0024 - mae: 0.0420 - val_loss: 0.0179 - val_mae: 0.0622\n",
            "Epoch 143/200\n",
            "1/1 [==============================] - 0s 74ms/step - loss: 0.0023 - mae: 0.0418 - val_loss: 0.0179 - val_mae: 0.0620\n",
            "Epoch 144/200\n",
            "1/1 [==============================] - 0s 75ms/step - loss: 0.0023 - mae: 0.0416 - val_loss: 0.0179 - val_mae: 0.0618\n",
            "Epoch 145/200\n",
            "1/1 [==============================] - 0s 86ms/step - loss: 0.0023 - mae: 0.0413 - val_loss: 0.0179 - val_mae: 0.0616\n",
            "Epoch 146/200\n",
            "1/1 [==============================] - 0s 90ms/step - loss: 0.0023 - mae: 0.0411 - val_loss: 0.0178 - val_mae: 0.0615\n",
            "Epoch 147/200\n",
            "1/1 [==============================] - 0s 91ms/step - loss: 0.0022 - mae: 0.0409 - val_loss: 0.0178 - val_mae: 0.0613\n",
            "Epoch 148/200\n",
            "1/1 [==============================] - 0s 73ms/step - loss: 0.0022 - mae: 0.0407 - val_loss: 0.0178 - val_mae: 0.0611\n",
            "Epoch 149/200\n",
            "1/1 [==============================] - 0s 76ms/step - loss: 0.0022 - mae: 0.0405 - val_loss: 0.0178 - val_mae: 0.0609\n",
            "Epoch 150/200\n",
            "1/1 [==============================] - 0s 76ms/step - loss: 0.0022 - mae: 0.0403 - val_loss: 0.0178 - val_mae: 0.0607\n",
            "Epoch 151/200\n",
            "1/1 [==============================] - 0s 75ms/step - loss: 0.0022 - mae: 0.0401 - val_loss: 0.0178 - val_mae: 0.0606\n",
            "Epoch 152/200\n",
            "1/1 [==============================] - 0s 86ms/step - loss: 0.0021 - mae: 0.0399 - val_loss: 0.0178 - val_mae: 0.0604\n",
            "Epoch 153/200\n",
            "1/1 [==============================] - 0s 76ms/step - loss: 0.0021 - mae: 0.0397 - val_loss: 0.0178 - val_mae: 0.0602\n",
            "Epoch 154/200\n",
            "1/1 [==============================] - 0s 118ms/step - loss: 0.0021 - mae: 0.0395 - val_loss: 0.0178 - val_mae: 0.0600\n",
            "Epoch 155/200\n",
            "1/1 [==============================] - 0s 114ms/step - loss: 0.0021 - mae: 0.0393 - val_loss: 0.0178 - val_mae: 0.0599\n",
            "Epoch 156/200\n",
            "1/1 [==============================] - 0s 148ms/step - loss: 0.0020 - mae: 0.0391 - val_loss: 0.0178 - val_mae: 0.0597\n",
            "Epoch 157/200\n",
            "1/1 [==============================] - 0s 122ms/step - loss: 0.0020 - mae: 0.0389 - val_loss: 0.0178 - val_mae: 0.0595\n",
            "Epoch 158/200\n",
            "1/1 [==============================] - 0s 126ms/step - loss: 0.0020 - mae: 0.0387 - val_loss: 0.0178 - val_mae: 0.0594\n",
            "Epoch 159/200\n",
            "1/1 [==============================] - 0s 113ms/step - loss: 0.0020 - mae: 0.0385 - val_loss: 0.0177 - val_mae: 0.0592\n",
            "Epoch 160/200\n",
            "1/1 [==============================] - 0s 134ms/step - loss: 0.0020 - mae: 0.0383 - val_loss: 0.0177 - val_mae: 0.0591\n",
            "Epoch 161/200\n",
            "1/1 [==============================] - 0s 117ms/step - loss: 0.0019 - mae: 0.0381 - val_loss: 0.0177 - val_mae: 0.0589\n",
            "Epoch 162/200\n",
            "1/1 [==============================] - 0s 112ms/step - loss: 0.0019 - mae: 0.0380 - val_loss: 0.0177 - val_mae: 0.0588\n",
            "Epoch 163/200\n",
            "1/1 [==============================] - 0s 108ms/step - loss: 0.0019 - mae: 0.0378 - val_loss: 0.0177 - val_mae: 0.0586\n",
            "Epoch 164/200\n",
            "1/1 [==============================] - 0s 122ms/step - loss: 0.0019 - mae: 0.0376 - val_loss: 0.0177 - val_mae: 0.0585\n",
            "Epoch 165/200\n",
            "1/1 [==============================] - 0s 120ms/step - loss: 0.0019 - mae: 0.0374 - val_loss: 0.0177 - val_mae: 0.0583\n",
            "Epoch 166/200\n",
            "1/1 [==============================] - 0s 115ms/step - loss: 0.0019 - mae: 0.0373 - val_loss: 0.0177 - val_mae: 0.0582\n",
            "Epoch 167/200\n",
            "1/1 [==============================] - 0s 141ms/step - loss: 0.0018 - mae: 0.0371 - val_loss: 0.0177 - val_mae: 0.0580\n",
            "Epoch 168/200\n",
            "1/1 [==============================] - 0s 131ms/step - loss: 0.0018 - mae: 0.0369 - val_loss: 0.0177 - val_mae: 0.0579\n",
            "Epoch 169/200\n",
            "1/1 [==============================] - 0s 119ms/step - loss: 0.0018 - mae: 0.0367 - val_loss: 0.0177 - val_mae: 0.0577\n",
            "Epoch 170/200\n",
            "1/1 [==============================] - 0s 125ms/step - loss: 0.0018 - mae: 0.0366 - val_loss: 0.0177 - val_mae: 0.0576\n",
            "Epoch 171/200\n",
            "1/1 [==============================] - 0s 112ms/step - loss: 0.0018 - mae: 0.0364 - val_loss: 0.0177 - val_mae: 0.0574\n",
            "Epoch 172/200\n",
            "1/1 [==============================] - 0s 132ms/step - loss: 0.0018 - mae: 0.0362 - val_loss: 0.0177 - val_mae: 0.0573\n",
            "Epoch 173/200\n",
            "1/1 [==============================] - 0s 113ms/step - loss: 0.0017 - mae: 0.0361 - val_loss: 0.0177 - val_mae: 0.0572\n",
            "Epoch 174/200\n",
            "1/1 [==============================] - 0s 76ms/step - loss: 0.0017 - mae: 0.0359 - val_loss: 0.0177 - val_mae: 0.0570\n",
            "Epoch 175/200\n",
            "1/1 [==============================] - 0s 81ms/step - loss: 0.0017 - mae: 0.0358 - val_loss: 0.0177 - val_mae: 0.0569\n",
            "Epoch 176/200\n",
            "1/1 [==============================] - 0s 85ms/step - loss: 0.0017 - mae: 0.0356 - val_loss: 0.0177 - val_mae: 0.0568\n",
            "Epoch 177/200\n",
            "1/1 [==============================] - 0s 73ms/step - loss: 0.0017 - mae: 0.0355 - val_loss: 0.0176 - val_mae: 0.0566\n",
            "Epoch 178/200\n",
            "1/1 [==============================] - 0s 74ms/step - loss: 0.0017 - mae: 0.0353 - val_loss: 0.0176 - val_mae: 0.0565\n",
            "Epoch 179/200\n",
            "1/1 [==============================] - 0s 89ms/step - loss: 0.0016 - mae: 0.0352 - val_loss: 0.0176 - val_mae: 0.0564\n",
            "Epoch 180/200\n",
            "1/1 [==============================] - 0s 86ms/step - loss: 0.0016 - mae: 0.0350 - val_loss: 0.0176 - val_mae: 0.0563\n",
            "Epoch 181/200\n",
            "1/1 [==============================] - 0s 75ms/step - loss: 0.0016 - mae: 0.0349 - val_loss: 0.0176 - val_mae: 0.0561\n",
            "Epoch 182/200\n",
            "1/1 [==============================] - 0s 84ms/step - loss: 0.0016 - mae: 0.0347 - val_loss: 0.0176 - val_mae: 0.0560\n",
            "Epoch 183/200\n",
            "1/1 [==============================] - 0s 85ms/step - loss: 0.0016 - mae: 0.0346 - val_loss: 0.0176 - val_mae: 0.0559\n",
            "Epoch 184/200\n",
            "1/1 [==============================] - 0s 90ms/step - loss: 0.0016 - mae: 0.0344 - val_loss: 0.0176 - val_mae: 0.0558\n",
            "Epoch 185/200\n",
            "1/1 [==============================] - 0s 85ms/step - loss: 0.0016 - mae: 0.0343 - val_loss: 0.0176 - val_mae: 0.0556\n",
            "Epoch 186/200\n",
            "1/1 [==============================] - 0s 90ms/step - loss: 0.0016 - mae: 0.0341 - val_loss: 0.0176 - val_mae: 0.0555\n",
            "Epoch 187/200\n",
            "1/1 [==============================] - 0s 87ms/step - loss: 0.0015 - mae: 0.0340 - val_loss: 0.0176 - val_mae: 0.0554\n",
            "Epoch 188/200\n",
            "1/1 [==============================] - 0s 73ms/step - loss: 0.0015 - mae: 0.0339 - val_loss: 0.0176 - val_mae: 0.0553\n",
            "Epoch 189/200\n",
            "1/1 [==============================] - 0s 87ms/step - loss: 0.0015 - mae: 0.0337 - val_loss: 0.0176 - val_mae: 0.0552\n",
            "Epoch 190/200\n",
            "1/1 [==============================] - 0s 77ms/step - loss: 0.0015 - mae: 0.0336 - val_loss: 0.0176 - val_mae: 0.0551\n",
            "Epoch 191/200\n",
            "1/1 [==============================] - 0s 85ms/step - loss: 0.0015 - mae: 0.0334 - val_loss: 0.0176 - val_mae: 0.0549\n",
            "Epoch 192/200\n",
            "1/1 [==============================] - 0s 74ms/step - loss: 0.0015 - mae: 0.0333 - val_loss: 0.0176 - val_mae: 0.0548\n",
            "Epoch 193/200\n",
            "1/1 [==============================] - 0s 80ms/step - loss: 0.0015 - mae: 0.0332 - val_loss: 0.0176 - val_mae: 0.0547\n",
            "Epoch 194/200\n",
            "1/1 [==============================] - 0s 91ms/step - loss: 0.0015 - mae: 0.0330 - val_loss: 0.0176 - val_mae: 0.0546\n",
            "Epoch 195/200\n",
            "1/1 [==============================] - 0s 99ms/step - loss: 0.0014 - mae: 0.0329 - val_loss: 0.0176 - val_mae: 0.0545\n",
            "Epoch 196/200\n",
            "1/1 [==============================] - 0s 80ms/step - loss: 0.0014 - mae: 0.0328 - val_loss: 0.0176 - val_mae: 0.0544\n",
            "Epoch 197/200\n",
            "1/1 [==============================] - 0s 74ms/step - loss: 0.0014 - mae: 0.0327 - val_loss: 0.0176 - val_mae: 0.0543\n",
            "Epoch 198/200\n",
            "1/1 [==============================] - 0s 88ms/step - loss: 0.0014 - mae: 0.0325 - val_loss: 0.0176 - val_mae: 0.0542\n",
            "Epoch 199/200\n",
            "1/1 [==============================] - 0s 85ms/step - loss: 0.0014 - mae: 0.0324 - val_loss: 0.0176 - val_mae: 0.0541\n",
            "Epoch 200/200\n",
            "1/1 [==============================] - 0s 89ms/step - loss: 0.0014 - mae: 0.0323 - val_loss: 0.0176 - val_mae: 0.0540\n"
          ]
        }
      ]
    },
    {
      "cell_type": "code",
      "source": [
        "y_pred = model.predict(X_test)\n",
        "#Converting predictions to label\n",
        "pred = list()\n",
        "for i in range(len(y_pred)):\n",
        "    pred.append(np.argmax(y_pred[i]))\n",
        "#Converting one hot encoded test label to label\n",
        "test = list()\n",
        "for i in range(len(y_test)):\n",
        "    test.append(np.argmax(y_test[i]))"
      ],
      "metadata": {
        "id": "6LdhSsfnxTC0"
      },
      "execution_count": null,
      "outputs": []
    },
    {
      "cell_type": "code",
      "source": [
        "a = accuracy_score(pred,test)\n",
        "print('Accuracy is:', a*100)"
      ],
      "metadata": {
        "id": "peU22deC061M"
      },
      "execution_count": null,
      "outputs": []
    },
    {
      "cell_type": "code",
      "source": [
        "np.array([flatten(to_categorical([2,3,4,2,3], 6))])"
      ],
      "metadata": {
        "id": "OLxPiuDLCHLa"
      },
      "execution_count": null,
      "outputs": []
    },
    {
      "cell_type": "code",
      "source": [
        "array = model.predict(np.array([to_categorical([3,1,5,1,0], 6)]))\n",
        "array_new = []\n",
        "for i in array[0]:\n",
        "  if i < 0.5:\n",
        "    array_new.append(0)\n",
        "  else:\n",
        "    array_new.append(1)\n",
        "n = 6\n",
        "array_new = [array_new[i:i + n] for i in range(0, len(array_new), n)]\n",
        "array_new = argmax(array_new, axis=1)\n",
        "print(array_new)"
      ],
      "metadata": {
        "id": "mgptHOhYFhAq"
      },
      "execution_count": null,
      "outputs": []
    },
    {
      "cell_type": "code",
      "source": [
        "X, y = training_data_gen(term_symb_numb = 4, nonterminals = nonterminals, iter_range = [1,4], sample_size = 100, max_length = 6)"
      ],
      "metadata": {
        "id": "TRl48rvUMEaA"
      },
      "execution_count": null,
      "outputs": []
    },
    {
      "cell_type": "code",
      "source": [
        "X, y = training_data_gen(term_symb_numb = 4, nonterminals = nonterminals, iter_range = [2,4], sample_size = 20, max_length = 6)\n",
        "X, y = pad(X, y)\n",
        "\n",
        "concatenated_dataset = np.empty((20, 2, 6))\n",
        "\n",
        "# Assign the values from the original datasets\n",
        "concatenated_dataset[:, 0, :] = X\n",
        "concatenated_dataset[:, 1, :] = y\n",
        "concatenated_dataset"
      ],
      "metadata": {
        "id": "2L51xEvNHNdN"
      },
      "execution_count": null,
      "outputs": []
    },
    {
      "cell_type": "code",
      "source": [
        "\n",
        "a = accuracy_score(pred,test)\n",
        "print('Accuracy is:', a*100)"
      ],
      "metadata": {
        "id": "gUqrpECZhHNR"
      },
      "execution_count": null,
      "outputs": []
    },
    {
      "cell_type": "code",
      "source": [
        "plt.plot(history.history['mae'])\n",
        "plt.plot(history.history['val_mae'])\n",
        "plt.title('Model mean absolute error')\n",
        "plt.ylabel('Mean absolute error')\n",
        "plt.xlabel('Epoch')\n",
        "plt.legend(['Train', 'Test'], loc='upper left')\n",
        "plt.show()"
      ],
      "metadata": {
        "id": "XNt8PEJ3hi5X",
        "colab": {
          "base_uri": "https://localhost:8080/",
          "height": 472
        },
        "outputId": "317a451f-e24b-4f11-88dd-5c150d4b78ab"
      },
      "execution_count": null,
      "outputs": [
        {
          "output_type": "display_data",
          "data": {
            "text/plain": [
              "<Figure size 640x480 with 1 Axes>"
            ],
            "image/png": "[encoded data removed]"
          },
          "metadata": {}
        }
      ]
    },
    {
      "cell_type": "code",
      "source": [
        "plt.plot(history.history['loss'])\n",
        "plt.plot(history.history['val_loss'])\n",
        "plt.title('Model loss')\n",
        "plt.ylabel('Loss')\n",
        "plt.xlabel('Epoch')\n",
        "plt.legend(['Train', 'Test'], loc='upper left')\n",
        "plt.show()"
      ],
      "metadata": {
        "id": "XrKgPl-EhtD9",
        "colab": {
          "base_uri": "https://localhost:8080/",
          "height": 472
        },
        "outputId": "52149bdd-3312-4c63-bb3c-ec162ecce06a"
      },
      "execution_count": null,
      "outputs": [
        {
          "output_type": "display_data",
          "data": {
            "text/plain": [
              "<Figure size 640x480 with 1 Axes>"
            ],
            "image/png": "[encoded data removed]"
          },
          "metadata": {}
        }
      ]
    }
  ]
}