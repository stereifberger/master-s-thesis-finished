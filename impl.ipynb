{
 "cells": [
  {
   "cell_type": "markdown",
   "metadata": {},
   "source": [
    "# Overview\n",
    "An enviroment to train and evaluate neural networks on rule learning. The language used is stated in the notions of Chomsky.\n",
    "- Terminal symbols (encoded as integers)\n",
    "- Nonterminalsymbols and production rules (encoded as lambda-functions)\n",
    "\n",
    "This is how it works:\n",
    "1. Section \"Libraries and utilities imports libraries and defines useful functions.\n",
    "2. Section \"Data generation\" defines functions and a class for generating the training data\n",
    "3. Section \"Networks\" defines a function that implements different network architectures.\n",
    "4. Uses the before defined functions and Derivation class.\n",
    "  a. \"get_training_data()\" produces data using the grammar and logic for building derivations in the Derivation class the nonterminals and production rules used by \"nonterms()\".\n",
    "  b. A loop using \"evaluate()\" trains all specified architectures on the data and plots the results."
   ]
  },
  {
   "cell_type": "code",
   "execution_count": 131,
   "metadata": {},
   "outputs": [],
   "source": [
    "from libs import *"
   ]
  },
  {
   "cell_type": "code",
   "execution_count": 177,
   "metadata": {},
   "outputs": [
    {
     "data": {
      "text/plain": [
       "<module 'calc' from '/home/str/master-s-thesis/calc.py'>"
      ]
     },
     "execution_count": 177,
     "metadata": {},
     "output_type": "execute_result"
    }
   ],
   "source": [
    "importlib.reload(gnrn)\n",
    "importlib.reload(calc)"
   ]
  },
  {
   "cell_type": "code",
   "execution_count": 179,
   "metadata": {},
   "outputs": [
    {
     "name": "stderr",
     "output_type": "stream",
     "text": [
      "Generating example derivations:   6%|▏  | 1216/20000 [00:00<00:01, 12153.09it/s]"
     ]
    },
    {
     "name": "stderr",
     "output_type": "stream",
     "text": [
      "Generating example derivations: 100%|███| 20000/20000 [00:11<00:00, 1705.33it/s]"
     ]
    },
    {
     "name": "stdout",
     "output_type": "stream",
     "text": [
      "Input: [[3], [10], [[[[3], [14], [7]], [15], [3]], [13], [[[3], [14], [7]], [15], [3]]]]\n",
      "Output: [[3], [[3], [14], [7]], [[[3], [14], [7]], [15], [3]], [[[[3], [14], [7]], [15], [3]], [14], [6]], [[3], [14], [4]], [[[[[3], [14], [7]], [15], [3]], [14], [6]], [14], [3]], [[[3], [14], [7]], [15], [3]], [[6], [14], [[3], [14], [4]]], [[[[3], [14], [7]], [15], [3]], [13], [[[3], [14], [7]], [15], [3]]]]\n"
     ]
    },
    {
     "name": "stderr",
     "output_type": "stream",
     "text": [
      "\n"
     ]
    }
   ],
   "source": [
    "inpt, outp = gnrn.dat_b(itra = [1,8], s_si = 20000)\n",
    "\n",
    "print(f\"Input: {inpt[0]}\")\n",
    "print(f\"Output: {outp[0]}\")"
   ]
  },
  {
   "cell_type": "code",
   "execution_count": 204,
   "metadata": {},
   "outputs": [
    {
     "data": {
      "text/plain": [
       "False"
      ]
     },
     "execution_count": 204,
     "metadata": {},
     "output_type": "execute_result"
    }
   ],
   "source": [
    "calc.app_check(calc.th_e, 0, prem = [[[3],[4],[7]],[3]]) == True"
   ]
  },
  {
   "cell_type": "code",
   "execution_count": 196,
   "metadata": {},
   "outputs": [
    {
     "ename": "SyntaxError",
     "evalue": "invalid syntax (676523671.py, line 3)",
     "output_type": "error",
     "traceback": [
      "\u001b[0;36m  Cell \u001b[0;32mIn[196], line 3\u001b[0;36m\u001b[0m\n\u001b[0;31m    if = len(i) == 1:\u001b[0m\n\u001b[0m       ^\u001b[0m\n\u001b[0;31mSyntaxError\u001b[0m\u001b[0;31m:\u001b[0m invalid syntax\n"
     ]
    },
    {
     "ename": "",
     "evalue": "",
     "output_type": "error",
     "traceback": [
      "\u001b[1;31mThe Kernel crashed while executing code in the current cell or a previous cell. \n",
      "\u001b[1;31mPlease review the code in the cell(s) to identify a possible cause of the failure. \n",
      "\u001b[1;31mClick <a href='https://aka.ms/vscodeJupyterKernelCrash'>here</a> for more info. \n",
      "\u001b[1;31mView Jupyter <a href='command:jupyter.viewOutput'>log</a> for further details."
     ]
    }
   ],
   "source": [
    "def rmbr(x):\n",
    "    for i in ls:\n",
    "        if len(i) == 1:\n",
    "            return i[0]\n",
    "        else:\n",
    "            return rmbr(i)"
   ]
  },
  {
   "cell_type": "code",
   "execution_count": 201,
   "metadata": {},
   "outputs": [],
   "source": [
    "prem = [[1][2]]\n",
    "if calc.app_check(calc.an_i, 0, prem) == True:\n"
   ]
  },
  {
   "cell_type": "code",
   "execution_count": 206,
   "metadata": {},
   "outputs": [
    {
     "data": {
      "text/plain": [
       "[12]"
      ]
     },
     "execution_count": 206,
     "metadata": {},
     "output_type": "execute_result"
    }
   ],
   "source": [
    "calc.symb[\"NO\"]"
   ]
  },
  {
   "cell_type": "code",
   "execution_count": 195,
   "metadata": {},
   "outputs": [
    {
     "name": "stdout",
     "output_type": "stream",
     "text": [
      "[\n",
      "[11]\n"
     ]
    },
    {
     "ename": "TypeError",
     "evalue": "int() argument must be a string, a bytes-like object or a real number, not 'list'",
     "output_type": "error",
     "traceback": [
      "\u001b[0;31m---------------------------------------------------------------------------\u001b[0m",
      "\u001b[0;31mTypeError\u001b[0m                                 Traceback (most recent call last)",
      "Cell \u001b[0;32mIn[195], line 8\u001b[0m\n\u001b[1;32m      6\u001b[0m     char \u001b[38;5;241m=\u001b[39m calc\u001b[38;5;241m.\u001b[39msymb[\u001b[38;5;124m\"\u001b[39m\u001b[38;5;124mBR\u001b[39m\u001b[38;5;124m\"\u001b[39m]\n\u001b[1;32m      7\u001b[0m     \u001b[38;5;28mprint\u001b[39m(char)\n\u001b[0;32m----> 8\u001b[0m flat\u001b[38;5;241m.\u001b[39mappend(\u001b[38;5;28;43mint\u001b[39;49m\u001b[43m(\u001b[49m\u001b[43mchar\u001b[49m\u001b[43m)\u001b[49m)\n",
      "\u001b[0;31mTypeError\u001b[0m: int() argument must be a string, a bytes-like object or a real number, not 'list'"
     ]
    }
   ],
   "source": [
    "stri = str(inpt[0])\n",
    "flat = []\n",
    "for char in stri[1:-1]:\n",
    "    print(char)\n",
    "    if char == \"]\" or char == \"[\":\n",
    "        char = calc.symb[\"BR\"]\n",
    "        print(char)\n",
    "    flat.append(int(char))"
   ]
  },
  {
   "cell_type": "code",
   "execution_count": 182,
   "metadata": {},
   "outputs": [
    {
     "name": "stdout",
     "output_type": "stream",
     "text": [
      "shape of x is :  (442, 10)\n",
      "shape of y is :  (442,)\n"
     ]
    }
   ],
   "source": [
    "from torch.utils.data import Dataset, DataLoader\n",
    "from sklearn.datasets import load_diabetes\n",
    "data = load_diabetes()\n",
    "x = data['data']\n",
    "y = data['target']#shape\n",
    "print('shape of x is : ',x.shape)\n",
    "print('shape of y is : ',y.shape)"
   ]
  },
  {
   "cell_type": "code",
   "execution_count": 183,
   "metadata": {},
   "outputs": [
    {
     "data": {
      "text/plain": [
       "array([[ 0.03807591,  0.05068012,  0.06169621, ..., -0.00259226,\n",
       "         0.01990749, -0.01764613],\n",
       "       [-0.00188202, -0.04464164, -0.05147406, ..., -0.03949338,\n",
       "        -0.06833155, -0.09220405],\n",
       "       [ 0.08529891,  0.05068012,  0.04445121, ..., -0.00259226,\n",
       "         0.00286131, -0.02593034],\n",
       "       ...,\n",
       "       [ 0.04170844,  0.05068012, -0.01590626, ..., -0.01107952,\n",
       "        -0.04688253,  0.01549073],\n",
       "       [-0.04547248, -0.04464164,  0.03906215, ...,  0.02655962,\n",
       "         0.04452873, -0.02593034],\n",
       "       [-0.04547248, -0.04464164, -0.0730303 , ..., -0.03949338,\n",
       "        -0.00422151,  0.00306441]])"
      ]
     },
     "execution_count": 183,
     "metadata": {},
     "output_type": "execute_result"
    }
   ],
   "source": [
    "x"
   ]
  },
  {
   "cell_type": "code",
   "execution_count": 185,
   "metadata": {},
   "outputs": [
    {
     "data": {
      "text/plain": [
       "442"
      ]
     },
     "execution_count": 185,
     "metadata": {},
     "output_type": "execute_result"
    }
   ],
   "source": [
    "y"
   ]
  }
 ],
 "metadata": {
  "kernelspec": {
   "display_name": "Python 3 (ipykernel)",
   "language": "python",
   "name": "python3"
  },
  "language_info": {
   "codemirror_mode": {
    "name": "ipython",
    "version": 3
   },
   "file_extension": ".py",
   "mimetype": "text/x-python",
   "name": "python",
   "nbconvert_exporter": "python",
   "pygments_lexer": "ipython3",
   "version": "3.10.12"
  }
 },
 "nbformat": 4,
 "nbformat_minor": 2
}
