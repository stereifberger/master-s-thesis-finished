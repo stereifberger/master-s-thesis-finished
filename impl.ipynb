{
 "cells": [
  {
   "cell_type": "markdown",
   "metadata": {},
   "source": [
    "# Overview\n",
    "An enviroment to train and evaluate neural networks on rule learning. The language used is stated in the notions of Chomsky.\n",
    "- Terminal symbols (encoded as integers)\n",
    "- Nonterminalsymbols and production rules (encoded as lambda-functions)\n",
    "\n",
    "This is how it works:\n",
    "1. Section \"Libraries and utilities imports libraries and defines useful functions.\n",
    "2. Section \"Data generation\" defines functions and a class for generating the training data\n",
    "3. Section \"Networks\" defines a function that implements different network architectures.\n",
    "4. Uses the before defined functions and Derivation class.\n",
    "  a. \"get_training_data()\" produces data using the grammar and logic for building derivations in the Derivation class the nonterminals and production rules used by \"nonterms()\".\n",
    "  b. A loop using \"evaluate()\" trains all specified architectures on the data and plots the results."
   ]
  },
  {
   "cell_type": "code",
   "execution_count": 49,
   "metadata": {},
   "outputs": [],
   "source": [
    "from libs import *"
   ]
  },
  {
   "cell_type": "code",
   "execution_count": null,
   "metadata": {},
   "outputs": [],
   "source": []
  },
  {
   "cell_type": "code",
   "execution_count": 27,
   "metadata": {},
   "outputs": [],
   "source": [
    "global t_nu\n",
    "t_nu = 5"
   ]
  },
  {
   "cell_type": "code",
   "execution_count": 126,
   "metadata": {},
   "outputs": [
    {
     "data": {
      "text/plain": [
       "<module 'calc' from '/home/str/master-s-thesis/calc.py'>"
      ]
     },
     "execution_count": 126,
     "metadata": {},
     "output_type": "execute_result"
    }
   ],
   "source": [
    "importlib.reload(gnrn)\n",
    "importlib.reload(calc)"
   ]
  },
  {
   "cell_type": "code",
   "execution_count": 127,
   "metadata": {},
   "outputs": [
    {
     "name": "stderr",
     "output_type": "stream",
     "text": [
      "\n",
      "\n",
      "\n",
      "\n",
      "\n",
      "\n",
      "\n",
      "\n",
      "\n",
      "\n",
      "\n",
      "\n",
      "\n",
      "\n",
      "\n",
      "\n",
      "\n",
      "\n",
      "\n",
      "\n",
      "\n",
      "\n",
      "\n",
      "\n",
      "\n",
      "\n",
      "\n",
      "\n",
      "\u001b[A\u001b[A\u001b[A\u001b[A\u001b[A\u001b[A\u001b[A\u001b[A\u001b[A\u001b[A\u001b[A\u001b[A\u001b[A\u001b[A\u001b[A\u001b[A\u001b[A\u001b[A\u001b[A\u001b[A\u001b[A\u001b[A\u001b[A\u001b[A\u001b[A\u001b[A\u001b[A\u001b[A\n",
      "\n",
      "\n",
      "\n",
      "\n",
      "\n",
      "\n",
      "\n",
      "\n",
      "\n",
      "\n",
      "\n",
      "\n",
      "\n",
      "\n",
      "\n",
      "\n",
      "\n",
      "\n",
      "\n",
      "\n",
      "\n",
      "\n",
      "\n",
      "\n",
      "\n",
      "\n",
      "\n",
      "\n",
      "Generating example derivations:  33%|████        | 1/3 [09:26<18:53, 566.59s/it]A\u001b[A\u001b[A\n"
     ]
    },
    {
     "ename": "IndexError",
     "evalue": "list index out of range",
     "output_type": "error",
     "traceback": [
      "\u001b[0;31m---------------------------------------------------------------------------\u001b[0m",
      "\u001b[0;31mIndexError\u001b[0m                                Traceback (most recent call last)",
      "Cell \u001b[0;32mIn[127], line 1\u001b[0m\n\u001b[0;32m----> 1\u001b[0m inpt, outp \u001b[38;5;241m=\u001b[39m \u001b[43mgnrn\u001b[49m\u001b[38;5;241;43m.\u001b[39;49m\u001b[43mdat_b\u001b[49m\u001b[43m(\u001b[49m\u001b[43mitra\u001b[49m\u001b[43m \u001b[49m\u001b[38;5;241;43m=\u001b[39;49m\u001b[43m \u001b[49m\u001b[43m[\u001b[49m\u001b[38;5;241;43m1\u001b[39;49m\u001b[43m,\u001b[49m\u001b[38;5;241;43m5\u001b[39;49m\u001b[43m]\u001b[49m\u001b[43m,\u001b[49m\u001b[43m \u001b[49m\u001b[43ms_si\u001b[49m\u001b[43m \u001b[49m\u001b[38;5;241;43m=\u001b[39;49m\u001b[43m \u001b[49m\u001b[38;5;241;43m3\u001b[39;49m\u001b[43m)\u001b[49m\n\u001b[1;32m      2\u001b[0m \u001b[38;5;28mprint\u001b[39m(\u001b[38;5;124mf\u001b[39m\u001b[38;5;124m\"\u001b[39m\u001b[38;5;124mInput: \u001b[39m\u001b[38;5;132;01m{\u001b[39;00minpt\u001b[38;5;132;01m}\u001b[39;00m\u001b[38;5;124m\"\u001b[39m)\n\u001b[1;32m      3\u001b[0m \u001b[38;5;28mprint\u001b[39m(\u001b[38;5;124mf\u001b[39m\u001b[38;5;124m\"\u001b[39m\u001b[38;5;124mOutput: \u001b[39m\u001b[38;5;132;01m{\u001b[39;00moutp\u001b[38;5;132;01m}\u001b[39;00m\u001b[38;5;124m\"\u001b[39m)\n",
      "File \u001b[0;32m~/master-s-thesis/gnrn.py:31\u001b[0m, in \u001b[0;36mdat_b\u001b[0;34m(itra, s_si)\u001b[0m\n\u001b[1;32m     29\u001b[0m     \u001b[38;5;28;01mfor\u001b[39;00m rule \u001b[38;5;129;01min\u001b[39;00m calc\u001b[38;5;241m.\u001b[39minpl:\n\u001b[1;32m     30\u001b[0m         \u001b[38;5;28;01mif\u001b[39;00m calc\u001b[38;5;241m.\u001b[39mcheck(rule, prem):\n\u001b[0;32m---> 31\u001b[0m             cand\u001b[38;5;241m.\u001b[39mappend(\u001b[43mrule\u001b[49m\u001b[43m(\u001b[49m\u001b[43mprem\u001b[49m\u001b[43m)\u001b[49m)\n\u001b[1;32m     32\u001b[0m     drva\u001b[38;5;241m.\u001b[39mappend(choice(cand))\n\u001b[1;32m     33\u001b[0m inpt\u001b[38;5;241m.\u001b[39mappend(drva)\n",
      "File \u001b[0;32m~/master-s-thesis/calc.py:28\u001b[0m, in \u001b[0;36m<lambda>\u001b[0;34m(prem)\u001b[0m\n\u001b[1;32m     26\u001b[0m an_i \u001b[38;5;241m=\u001b[39m \u001b[38;5;28;01mlambda\u001b[39;00m prem: [prem[\u001b[38;5;241m0\u001b[39m]]    \u001b[38;5;241m+\u001b[39m [symb[\u001b[38;5;124m\"\u001b[39m\u001b[38;5;124mAN\u001b[39m\u001b[38;5;124m\"\u001b[39m]] \u001b[38;5;241m+\u001b[39m [prem[\u001b[38;5;241m1\u001b[39m]]   \u001b[38;5;66;03m# AND_INTRODUCTION\u001b[39;00m\n\u001b[1;32m     27\u001b[0m a_ea \u001b[38;5;241m=\u001b[39m \u001b[38;5;28;01mlambda\u001b[39;00m prem: prem[\u001b[38;5;241m0\u001b[39m]                             \u001b[38;5;66;03m# AND_ELIMINATION_A\u001b[39;00m\n\u001b[0;32m---> 28\u001b[0m a_eb \u001b[38;5;241m=\u001b[39m \u001b[38;5;28;01mlambda\u001b[39;00m prem: \u001b[43mprem\u001b[49m\u001b[43m[\u001b[49m\u001b[38;5;241;43m1\u001b[39;49m\u001b[43m]\u001b[49m                             \u001b[38;5;66;03m# AND_ELIMINATION_B\u001b[39;00m\n\u001b[1;32m     29\u001b[0m t_ea \u001b[38;5;241m=\u001b[39m \u001b[38;5;28;01mlambda\u001b[39;00m prem: prem[\u001b[38;5;241m0\u001b[39m][\u001b[38;5;241m2\u001b[39m]                          \u001b[38;5;66;03m# THEN_ELIMINATION_A\u001b[39;00m\n\u001b[1;32m     30\u001b[0m t_eb \u001b[38;5;241m=\u001b[39m \u001b[38;5;28;01mlambda\u001b[39;00m prem: prem[\u001b[38;5;241m1\u001b[39m][\u001b[38;5;241m2\u001b[39m]                          \u001b[38;5;66;03m# THEN_ELIMINATION_B\u001b[39;00m\n",
      "\u001b[0;31mIndexError\u001b[0m: list index out of range"
     ]
    }
   ],
   "source": [
    "inpt, outp = gnrn.dat_b(itra = [1,5], s_si = 3)\n",
    "print(f\"Input: {inpt}\")\n",
    "print(f\"Output: {outp}\")"
   ]
  },
  {
   "cell_type": "code",
   "execution_count": 204,
   "metadata": {},
   "outputs": [
    {
     "data": {
      "text/plain": [
       "False"
      ]
     },
     "execution_count": 204,
     "metadata": {},
     "output_type": "execute_result"
    }
   ],
   "source": [
    "calc.app_check(calc.th_e, 0, prem = [[[3],[4],[7]],[3]]) == True"
   ]
  },
  {
   "cell_type": "code",
   "execution_count": 201,
   "metadata": {},
   "outputs": [],
   "source": [
    "prem = [[1][2]]\n",
    "if calc.app_check(calc.an_i, 0, prem) == True:\n"
   ]
  },
  {
   "cell_type": "code",
   "execution_count": 206,
   "metadata": {},
   "outputs": [
    {
     "data": {
      "text/plain": [
       "[12]"
      ]
     },
     "execution_count": 206,
     "metadata": {},
     "output_type": "execute_result"
    }
   ],
   "source": [
    "calc.symb[\"NO\"]"
   ]
  },
  {
   "cell_type": "code",
   "execution_count": null,
   "metadata": {},
   "outputs": [],
   "source": []
  }
 ],
 "metadata": {
  "kernelspec": {
   "display_name": "Python 3 (ipykernel)",
   "language": "python",
   "name": "python3"
  },
  "language_info": {
   "codemirror_mode": {
    "name": "ipython",
    "version": 3
   },
   "file_extension": ".py",
   "mimetype": "text/x-python",
   "name": "python",
   "nbconvert_exporter": "python",
   "pygments_lexer": "ipython3",
   "version": "3.10.12"
  }
 },
 "nbformat": 4,
 "nbformat_minor": 2
}
