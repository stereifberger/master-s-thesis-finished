{
 "cells": [
  {
   "cell_type": "markdown",
   "metadata": {},
   "source": [
    "# Overview\n",
    "An enviroment to train and evaluate neural networks on rule learning. The language used is stated in the notions of Chomsky.\n",
    "- Terminal symbols (encoded as integers)\n",
    "- Nonterminalsymbols and production rules (encoded as lambda-functions)\n",
    "\n",
    "This is how it works:\n",
    "1. Section \"Libraries and utilities imports libraries and defines useful functions.\n",
    "2. Section \"Data generation\" defines functions and a class for generating the training data\n",
    "3. Section \"Networks\" defines a function that implements different network architectures.\n",
    "4. Uses the before defined functions and Derivation class.\n",
    "  a. \"get_training_data()\" produces data using the grammar and logic for building derivations in the Derivation class the nonterminals and production rules used by \"nonterms()\".\n",
    "  b. A loop using \"evaluate()\" trains all specified architectures on the data and plots the results."
   ]
  },
  {
   "cell_type": "code",
   "execution_count": 30,
   "metadata": {},
   "outputs": [],
   "source": [
    "from keras.models import Sequential, Model\n",
    "from keras.layers import Input, Dense, SimpleRNN, TimeDistributed, LSTM, RepeatVector\n",
    "from tensorflow.keras.utils import to_categorical\n",
    "from sklearn.model_selection import train_test_split\n",
    "from sklearn.metrics import accuracy_score\n",
    "import matplotlib.pyplot as plt\n",
    "import random as rd\n",
    "from random import seed, randint, choice, shuffle\n",
    "import numpy as np\n",
    "from numpy import argmax\n",
    "import pandas as pd\n",
    "from tqdm import tqdm\n",
    "import copy\n",
    "import re"
   ]
  },
  {
   "cell_type": "code",
   "execution_count": 41,
   "metadata": {},
   "outputs": [],
   "source": [
    "from ut import plus"
   ]
  },
  {
   "cell_type": "code",
   "execution_count": 43,
   "metadata": {},
   "outputs": [],
   "source": [
    "def flatten(matrix = list):\n",
    "  return(list(pd.core.common.flatten(matrix)))"
   ]
  },
  {
   "cell_type": "code",
   "execution_count": 45,
   "metadata": {},
   "outputs": [
    {
     "data": {
      "text/plain": [
       "[1, 2]"
      ]
     },
     "execution_count": 45,
     "metadata": {},
     "output_type": "execute_result"
    }
   ],
   "source": [
    "flatten([1,2])"
   ]
  }
 ],
 "metadata": {
  "kernelspec": {
   "display_name": "Python 3 (ipykernel)",
   "language": "python",
   "name": "python3"
  },
  "language_info": {
   "codemirror_mode": {
    "name": "ipython",
    "version": 3
   },
   "file_extension": ".py",
   "mimetype": "text/x-python",
   "name": "python",
   "nbconvert_exporter": "python",
   "pygments_lexer": "ipython3",
   "version": "3.10.12"
  }
 },
 "nbformat": 4,
 "nbformat_minor": 2
}
